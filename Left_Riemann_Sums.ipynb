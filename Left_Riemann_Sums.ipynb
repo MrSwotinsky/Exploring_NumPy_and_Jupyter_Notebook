{
 "cells": [
  {
   "cell_type": "markdown",
   "metadata": {},
   "source": [
    "# Left Riemann Sum Estimator"
   ]
  },
  {
   "cell_type": "code",
   "execution_count": 1,
   "metadata": {},
   "outputs": [
    {
     "name": "stdout",
     "output_type": "stream",
     "text": [
      "Enter the left endpoint: 1\n",
      "Enter the right endpoint: 3\n",
      "Enter the maximum number of sub-intervals: 50\n",
      " Left Riemann Sum for 1 sub-intervals: 2.0\n",
      " Left Riemann Sum for 2 sub-intervals: 5.0\n",
      " Left Riemann Sum for 3 sub-intervals: 6.148148148148147\n",
      " Left Riemann Sum for 4 sub-intervals: 6.75\n",
      " Left Riemann Sum for 5 sub-intervals: 7.120000000000001\n",
      " Left Riemann Sum for 6 sub-intervals: 7.370370370370369\n",
      " Left Riemann Sum for 7 sub-intervals: 7.551020408163264\n",
      " Left Riemann Sum for 8 sub-intervals: 7.6875\n",
      " Left Riemann Sum for 9 sub-intervals: 7.794238683127571\n",
      " Left Riemann Sum for 10 sub-intervals: 7.880000000000001\n",
      " Left Riemann Sum for 11 sub-intervals: 7.9504132231404965\n",
      " Left Riemann Sum for 12 sub-intervals: 8.00925925925926\n",
      " Left Riemann Sum for 13 sub-intervals: 8.059171597633137\n",
      " Left Riemann Sum for 14 sub-intervals: 8.10204081632653\n",
      " Left Riemann Sum for 15 sub-intervals: 8.139259259259259\n",
      " Left Riemann Sum for 16 sub-intervals: 8.171875\n",
      " Left Riemann Sum for 17 sub-intervals: 8.20069204152249\n",
      " Left Riemann Sum for 18 sub-intervals: 8.22633744855967\n",
      " Left Riemann Sum for 19 sub-intervals: 8.249307479224376\n",
      " Left Riemann Sum for 20 sub-intervals: 8.27\n",
      " Left Riemann Sum for 21 sub-intervals: 8.288737717309145\n",
      " Left Riemann Sum for 22 sub-intervals: 8.305785123966942\n",
      " Left Riemann Sum for 23 sub-intervals: 8.321361058601134\n",
      " Left Riemann Sum for 24 sub-intervals: 8.335648148148147\n",
      " Left Riemann Sum for 25 sub-intervals: 8.3488\n",
      " Left Riemann Sum for 26 sub-intervals: 8.360946745562131\n",
      " Left Riemann Sum for 27 sub-intervals: 8.37219935985368\n",
      " Left Riemann Sum for 28 sub-intervals: 8.382653061224488\n",
      " Left Riemann Sum for 29 sub-intervals: 8.392390011890607\n",
      " Left Riemann Sum for 30 sub-intervals: 8.40148148148148\n",
      " Left Riemann Sum for 31 sub-intervals: 8.409989594172737\n",
      " Left Riemann Sum for 32 sub-intervals: 8.41796875\n",
      " Left Riemann Sum for 33 sub-intervals: 8.425466789103151\n",
      " Left Riemann Sum for 34 sub-intervals: 8.432525951557093\n",
      " Left Riemann Sum for 35 sub-intervals: 8.439183673469387\n",
      " Left Riemann Sum for 36 sub-intervals: 8.445473251028805\n",
      " Left Riemann Sum for 37 sub-intervals: 8.451424397370344\n",
      " Left Riemann Sum for 38 sub-intervals: 8.457063711911356\n",
      " Left Riemann Sum for 39 sub-intervals: 8.462415077799694\n",
      " Left Riemann Sum for 40 sub-intervals: 8.467500000000001\n",
      " Left Riemann Sum for 41 sub-intervals: 8.47233789411065\n",
      " Left Riemann Sum for 42 sub-intervals: 8.47694633408919\n",
      " Left Riemann Sum for 43 sub-intervals: 8.481341265548947\n",
      " Left Riemann Sum for 44 sub-intervals: 8.485537190082644\n",
      " Left Riemann Sum for 45 sub-intervals: 8.489547325102881\n",
      " Left Riemann Sum for 46 sub-intervals: 8.493383742911153\n",
      " Left Riemann Sum for 47 sub-intervals: 8.497057492077863\n",
      " Left Riemann Sum for 48 sub-intervals: 8.500578703703702\n",
      " Left Riemann Sum for 49 sub-intervals: 8.503956684714701\n",
      " Left Riemann Sum for 50 sub-intervals: 8.507200000000001\n"
     ]
    }
   ],
   "source": [
    "import numpy as np\n",
    "\n",
    "def f(x):\n",
    "    return x ** 2\n",
    "\n",
    "a = int(input(\"Enter the left endpoint: \"))\n",
    "b = int(input(\"Enter the right endpoint: \"))\n",
    "n = int(input(\"Enter the maximum number of sub-intervals: \"))\n",
    "\n",
    "def l_rmn_sum(l_endpt, r_endpt, n_sub_int):\n",
    "    sub_int_w = (r_endpt - l_endpt)/n_sub_int\n",
    "\n",
    "    widths = []\n",
    "    for i in range(n_sub_int):\n",
    "        widths.append(sub_int_w)\n",
    "    np_widths = np.array(widths)\n",
    "\n",
    "    l_endpoints = []\n",
    "    for i in range(n_sub_int):\n",
    "        l_endpoints.append(l_endpt + i*sub_int_w)\n",
    "    np_l_endpoints = np.array(l_endpoints)\n",
    "\n",
    "    np_heights = f(np_l_endpoints)\n",
    "    np_areas = np_widths * np_heights\n",
    "\n",
    "    return np.sum(np_areas)\n",
    "\n",
    "for i in range(n):\n",
    "    print(\" Left Riemann Sum for\",i+1, \"sub-intervals:\", l_rmn_sum(a, b, i+1))"
   ]
  },
  {
   "cell_type": "code",
   "execution_count": null,
   "metadata": {},
   "outputs": [],
   "source": []
  }
 ],
 "metadata": {
  "kernelspec": {
   "display_name": "Python 3",
   "language": "python",
   "name": "python3"
  },
  "language_info": {
   "codemirror_mode": {
    "name": "ipython",
    "version": 3
   },
   "file_extension": ".py",
   "mimetype": "text/x-python",
   "name": "python",
   "nbconvert_exporter": "python",
   "pygments_lexer": "ipython3",
   "version": "3.8.3"
  }
 },
 "nbformat": 4,
 "nbformat_minor": 4
}
