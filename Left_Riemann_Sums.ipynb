{
 "cells": [
  {
   "cell_type": "code",
   "execution_count": null,
   "metadata": {},
   "outputs": [],
   "source": [
    "import numpy as np\n",
    "\n",
    "def f(x):\n",
    "    return x ** 2\n",
    "\n",
    "a = int(input(\"Enter the left endpoint: \"))\n",
    "b = int(input(\"Enter the right endpoint: \"))\n",
    "n = int(input(\"Enter the maximum number of sub-intervals: \"))\n",
    "\n",
    "def l_rmn_sum(l_endpt, r_endpt, n_sub_int):\n",
    "    sub_int_w = (r_endpt - l_endpt)/n_sub_int\n",
    "\n",
    "    widths = []\n",
    "    for i in range(n_sub_int):\n",
    "        widths.append(sub_int_w)\n",
    "    np_widths = np.array(widths)\n",
    "\n",
    "    l_endpoints = []\n",
    "    for i in range(n_sub_int):\n",
    "        l_endpoints.append(l_endpt + i*sub_int_w)\n",
    "    np_l_endpoints = np.array(l_endpoints)\n",
    "\n",
    "    np_heights = f(np_l_endpoints)\n",
    "    np_areas = np_widths * np_heights\n",
    "\n",
    "    return np.sum(np_areas)\n",
    "\n",
    "for i in range(n):\n",
    "    print(\"Riemann Sum for\",i+1, \"sub-intervals:\", l_rmn_sum(a, b, i+1))"
   ]
  },
  {
   "cell_type": "code",
   "execution_count": null,
   "metadata": {},
   "outputs": [],
   "source": []
  },
  {
   "cell_type": "code",
   "execution_count": null,
   "metadata": {},
   "outputs": [],
   "source": []
  }
 ],
 "metadata": {
  "kernelspec": {
   "display_name": "Python 3",
   "language": "python",
   "name": "python3"
  },
  "language_info": {
   "codemirror_mode": {
    "name": "ipython",
    "version": 3
   },
   "file_extension": ".py",
   "mimetype": "text/x-python",
   "name": "python",
   "nbconvert_exporter": "python",
   "pygments_lexer": "ipython3",
   "version": "3.8.3"
  }
 },
 "nbformat": 4,
 "nbformat_minor": 4
}
