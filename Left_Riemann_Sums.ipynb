{
 "cells": [
  {
   "cell_type": "markdown",
   "metadata": {},
   "source": [
    "# Left Riemann Sum Estimator"
   ]
  },
  {
   "cell_type": "code",
   "execution_count": 1,
   "metadata": {},
   "outputs": [
    {
     "name": "stdout",
     "output_type": "stream",
     "text": [
      "Enter the left endpoint: 1\n",
      "Enter the right endpoint: 3\n",
      "Enter the maximum number of sub-intervals: 20\n",
      "Riemann Sum for 1 sub-intervals: 2.0\n",
      "Riemann Sum for 2 sub-intervals: 5.0\n",
      "Riemann Sum for 3 sub-intervals: 6.148148148148147\n",
      "Riemann Sum for 4 sub-intervals: 6.75\n",
      "Riemann Sum for 5 sub-intervals: 7.120000000000001\n",
      "Riemann Sum for 6 sub-intervals: 7.370370370370369\n",
      "Riemann Sum for 7 sub-intervals: 7.551020408163264\n",
      "Riemann Sum for 8 sub-intervals: 7.6875\n",
      "Riemann Sum for 9 sub-intervals: 7.794238683127571\n",
      "Riemann Sum for 10 sub-intervals: 7.880000000000001\n",
      "Riemann Sum for 11 sub-intervals: 7.9504132231404965\n",
      "Riemann Sum for 12 sub-intervals: 8.00925925925926\n",
      "Riemann Sum for 13 sub-intervals: 8.059171597633137\n",
      "Riemann Sum for 14 sub-intervals: 8.10204081632653\n",
      "Riemann Sum for 15 sub-intervals: 8.139259259259259\n",
      "Riemann Sum for 16 sub-intervals: 8.171875\n",
      "Riemann Sum for 17 sub-intervals: 8.20069204152249\n",
      "Riemann Sum for 18 sub-intervals: 8.22633744855967\n",
      "Riemann Sum for 19 sub-intervals: 8.249307479224376\n",
      "Riemann Sum for 20 sub-intervals: 8.27\n"
     ]
    }
   ],
   "source": [
    "import numpy as np\n",
    "\n",
    "def f(x):\n",
    "    return x ** 2\n",
    "\n",
    "a = int(input(\"Enter the left endpoint: \"))\n",
    "b = int(input(\"Enter the right endpoint: \"))\n",
    "n = int(input(\"Enter the maximum number of sub-intervals: \"))\n",
    "\n",
    "def l_rmn_sum(l_endpt, r_endpt, n_sub_int):\n",
    "    sub_int_w = (r_endpt - l_endpt)/n_sub_int\n",
    "\n",
    "    widths = []\n",
    "    for i in range(n_sub_int):\n",
    "        widths.append(sub_int_w)\n",
    "    np_widths = np.array(widths)\n",
    "\n",
    "    l_endpoints = []\n",
    "    for i in range(n_sub_int):\n",
    "        l_endpoints.append(l_endpt + i*sub_int_w)\n",
    "    np_l_endpoints = np.array(l_endpoints)\n",
    "\n",
    "    np_heights = f(np_l_endpoints)\n",
    "    np_areas = np_widths * np_heights\n",
    "\n",
    "    return np.sum(np_areas)\n",
    "\n",
    "for i in range(n):\n",
    "    print(\"Riemann Sum for\",i+1, \"sub-intervals:\", l_rmn_sum(a, b, i+1))"
   ]
  },
  {
   "cell_type": "code",
   "execution_count": null,
   "metadata": {},
   "outputs": [],
   "source": []
  }
 ],
 "metadata": {
  "kernelspec": {
   "display_name": "Python 3",
   "language": "python",
   "name": "python3"
  },
  "language_info": {
   "codemirror_mode": {
    "name": "ipython",
    "version": 3
   },
   "file_extension": ".py",
   "mimetype": "text/x-python",
   "name": "python",
   "nbconvert_exporter": "python",
   "pygments_lexer": "ipython3",
   "version": "3.8.3"
  }
 },
 "nbformat": 4,
 "nbformat_minor": 4
}
