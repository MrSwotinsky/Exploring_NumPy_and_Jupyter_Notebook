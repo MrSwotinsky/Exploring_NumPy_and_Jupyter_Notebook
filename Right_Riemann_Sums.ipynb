{
 "cells": [
  {
   "cell_type": "markdown",
   "metadata": {},
   "source": [
    "# Right Riemann Sum Estimator"
   ]
  },
  {
   "cell_type": "code",
   "execution_count": 1,
   "metadata": {},
   "outputs": [
    {
     "name": "stdout",
     "output_type": "stream",
     "text": [
      "Enter the left endpoint: 1\n",
      "Enter the right endpoint: 3\n",
      "Enter the maximum number of sub-intervals: 50\n",
      "Right Riemann Sum for 1 sub-intervals: 18.0\n",
      "Right Riemann Sum for 2 sub-intervals: 13.0\n",
      "Right Riemann Sum for 3 sub-intervals: 11.481481481481481\n",
      "Right Riemann Sum for 4 sub-intervals: 10.75\n",
      "Right Riemann Sum for 5 sub-intervals: 10.32\n",
      "Right Riemann Sum for 6 sub-intervals: 10.037037037037035\n",
      "Right Riemann Sum for 7 sub-intervals: 9.836734693877549\n",
      "Right Riemann Sum for 8 sub-intervals: 9.6875\n",
      "Right Riemann Sum for 9 sub-intervals: 9.572016460905349\n",
      "Right Riemann Sum for 10 sub-intervals: 9.48\n",
      "Right Riemann Sum for 11 sub-intervals: 9.40495867768595\n",
      "Right Riemann Sum for 12 sub-intervals: 9.342592592592592\n",
      "Right Riemann Sum for 13 sub-intervals: 9.289940828402369\n",
      "Right Riemann Sum for 14 sub-intervals: 9.244897959183671\n",
      "Right Riemann Sum for 15 sub-intervals: 9.205925925925925\n",
      "Right Riemann Sum for 16 sub-intervals: 9.171875\n",
      "Right Riemann Sum for 17 sub-intervals: 9.141868512110726\n",
      "Right Riemann Sum for 18 sub-intervals: 9.11522633744856\n",
      "Right Riemann Sum for 19 sub-intervals: 9.091412742382271\n",
      "Right Riemann Sum for 20 sub-intervals: 9.070000000000002\n",
      "Right Riemann Sum for 21 sub-intervals: 9.050642479213908\n",
      "Right Riemann Sum for 22 sub-intervals: 9.03305785123967\n",
      "Right Riemann Sum for 23 sub-intervals: 9.017013232514179\n",
      "Right Riemann Sum for 24 sub-intervals: 9.002314814814813\n",
      "Right Riemann Sum for 25 sub-intervals: 8.988800000000001\n",
      "Right Riemann Sum for 26 sub-intervals: 8.976331360946746\n",
      "Right Riemann Sum for 27 sub-intervals: 8.964791952446273\n",
      "Right Riemann Sum for 28 sub-intervals: 8.95408163265306\n",
      "Right Riemann Sum for 29 sub-intervals: 8.944114149821642\n",
      "Right Riemann Sum for 30 sub-intervals: 8.934814814814814\n",
      "Right Riemann Sum for 31 sub-intervals: 8.926118626430801\n",
      "Right Riemann Sum for 32 sub-intervals: 8.91796875\n",
      "Right Riemann Sum for 33 sub-intervals: 8.910315273951637\n",
      "Right Riemann Sum for 34 sub-intervals: 8.90311418685121\n",
      "Right Riemann Sum for 35 sub-intervals: 8.896326530612244\n",
      "Right Riemann Sum for 36 sub-intervals: 8.88991769547325\n",
      "Right Riemann Sum for 37 sub-intervals: 8.883856829802777\n",
      "Right Riemann Sum for 38 sub-intervals: 8.878116343490303\n",
      "Right Riemann Sum for 39 sub-intervals: 8.872671488056103\n",
      "Right Riemann Sum for 40 sub-intervals: 8.867500000000001\n",
      "Right Riemann Sum for 41 sub-intervals: 8.862581796549673\n",
      "Right Riemann Sum for 42 sub-intervals: 8.857898715041571\n",
      "Right Riemann Sum for 43 sub-intervals: 8.853434288804761\n",
      "Right Riemann Sum for 44 sub-intervals: 8.849173553719007\n",
      "Right Riemann Sum for 45 sub-intervals: 8.845102880658438\n",
      "Right Riemann Sum for 46 sub-intervals: 8.841209829867672\n",
      "Right Riemann Sum for 47 sub-intervals: 8.837483023992757\n",
      "Right Riemann Sum for 48 sub-intervals: 8.833912037037035\n",
      "Right Riemann Sum for 49 sub-intervals: 8.830487296959598\n",
      "Right Riemann Sum for 50 sub-intervals: 8.8272\n"
     ]
    }
   ],
   "source": [
    "import numpy as np\n",
    "\n",
    "def f(x):\n",
    "    return x ** 2\n",
    "\n",
    "a = int(input(\"Enter the left endpoint: \"))\n",
    "b = int(input(\"Enter the right endpoint: \"))\n",
    "n = int(input(\"Enter the maximum number of sub-intervals: \"))\n",
    "\n",
    "def r_rmn_sum(l_endpt, r_endpt, n_sub_int):\n",
    "    sub_int_w = (r_endpt - l_endpt)/n_sub_int\n",
    "\n",
    "    widths = []\n",
    "    for i in range(n_sub_int):\n",
    "        widths.append(sub_int_w)\n",
    "    np_widths = np.array(widths)\n",
    "\n",
    "    r_endpoints = []\n",
    "    for i in range(n_sub_int):\n",
    "        r_endpoints.append(l_endpt + (i+1)*sub_int_w)\n",
    "    np_r_endpoints = np.array(r_endpoints)\n",
    "\n",
    "    np_heights = f(np_r_endpoints)\n",
    "    np_areas = np_widths * np_heights\n",
    "\n",
    "    return np.sum(np_areas)\n",
    "\n",
    "for i in range(n):\n",
    "    print(\"Right Riemann Sum for\",i+1, \"sub-intervals:\", r_rmn_sum(a, b, i+1))"
   ]
  },
  {
   "cell_type": "code",
   "execution_count": null,
   "metadata": {},
   "outputs": [],
   "source": []
  }
 ],
 "metadata": {
  "kernelspec": {
   "display_name": "Python 3",
   "language": "python",
   "name": "python3"
  },
  "language_info": {
   "codemirror_mode": {
    "name": "ipython",
    "version": 3
   },
   "file_extension": ".py",
   "mimetype": "text/x-python",
   "name": "python",
   "nbconvert_exporter": "python",
   "pygments_lexer": "ipython3",
   "version": "3.8.3"
  }
 },
 "nbformat": 4,
 "nbformat_minor": 4
}
